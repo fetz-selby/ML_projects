{
 "cells": [
  {
   "cell_type": "code",
   "execution_count": 1,
   "metadata": {},
   "outputs": [
    {
     "name": "stderr",
     "output_type": "stream",
     "text": [
      "/anaconda3/envs/tfdeeplearning/lib/python3.5/importlib/_bootstrap.py:222: RuntimeWarning: compiletime version 3.6 of module 'tensorflow.python.framework.fast_tensor_util' does not match runtime version 3.5\n",
      "  return f(*args, **kwds)\n"
     ]
    }
   ],
   "source": [
    "import numpy as np\n",
    "import tensorflow as tf\n",
    "import matplotlib.pyplot as plot\n",
    "import pandas as pd"
   ]
  },
  {
   "cell_type": "code",
   "execution_count": 41,
   "metadata": {},
   "outputs": [],
   "source": [
    "len = 1000000\n",
    "m = 0.5\n",
    "c = 2\n",
    "noise = np.random.rand(len)\n",
    "x_data = np.linspace(0.0,10.0,len)"
   ]
  },
  {
   "cell_type": "code",
   "execution_count": 42,
   "metadata": {},
   "outputs": [],
   "source": [
    "y_data=m*x_data+c+noise"
   ]
  },
  {
   "cell_type": "code",
   "execution_count": 43,
   "metadata": {},
   "outputs": [],
   "source": [
    "x_df=pd.DataFrame(data=x_data,columns=['x-data'])\n",
    "y_df=pd.DataFrame(data=y_data,columns=['y-data'])"
   ]
  },
  {
   "cell_type": "code",
   "execution_count": 44,
   "metadata": {},
   "outputs": [],
   "source": [
    "table_df=pd.concat([x_df,y_df],axis=1)"
   ]
  },
  {
   "cell_type": "code",
   "execution_count": 45,
   "metadata": {},
   "outputs": [
    {
     "data": {
      "text/plain": [
       "<matplotlib.axes._subplots.AxesSubplot at 0x1a28d0a630>"
      ]
     },
     "execution_count": 45,
     "metadata": {},
     "output_type": "execute_result"
    },
    {
     "data": {
      "image/png": "[encoded data removed]",
      "text/plain": [
       "<Figure size 432x288 with 1 Axes>"
      ]
     },
     "metadata": {},
     "output_type": "display_data"
    }
   ],
   "source": [
    "table_df.sample(n=100).plot(kind='scatter',x='x-data',y='y-data')"
   ]
  },
  {
   "cell_type": "code",
   "execution_count": 46,
   "metadata": {},
   "outputs": [],
   "source": [
    "#Using TensorFlow Estimator\n",
    "feat_cols=[tf.feature_column.numeric_column('x',shape=[1])]"
   ]
  },
  {
   "cell_type": "code",
   "execution_count": 47,
   "metadata": {},
   "outputs": [
    {
     "name": "stdout",
     "output_type": "stream",
     "text": [
      "INFO:tensorflow:Using default config.\n",
      "WARNING:tensorflow:Using temporary folder as model directory: /var/folders/qr/4pvq58453_l15nr6skhcdd680000gn/T/tmp9f1lpbwz\n",
      "INFO:tensorflow:Using config: {'_save_checkpoints_steps': None, '_num_ps_replicas': 0, '_service': None, '_tf_random_seed': None, '_task_id': 0, '_is_chief': True, '_master': '', '_model_dir': '/var/folders/qr/4pvq58453_l15nr6skhcdd680000gn/T/tmp9f1lpbwz', '_log_step_count_steps': 100, '_save_summary_steps': 100, '_save_checkpoints_secs': 600, '_task_type': 'worker', '_num_worker_replicas': 1, '_global_id_in_cluster': 0, '_session_config': None, '_evaluation_master': '', '_keep_checkpoint_max': 5, '_keep_checkpoint_every_n_hours': 10000, '_cluster_spec': <tensorflow.python.training.server_lib.ClusterSpec object at 0x1a27e6c6d8>}\n"
     ]
    }
   ],
   "source": [
    "estimator=tf.estimator.LinearRegressor(feature_columns=feat_cols)"
   ]
  },
  {
   "cell_type": "code",
   "execution_count": 48,
   "metadata": {},
   "outputs": [],
   "source": [
    "from sklearn.model_selection import train_test_split"
   ]
  },
  {
   "cell_type": "code",
   "execution_count": 49,
   "metadata": {},
   "outputs": [],
   "source": [
    "x_train,x_test,y_train,y_test = train_test_split(x_data,y_data,test_size=0.3,random_state=101)"
   ]
  },
  {
   "cell_type": "code",
   "execution_count": 50,
   "metadata": {},
   "outputs": [],
   "source": [
    "input_func = tf.estimator.inputs.numpy_input_fn({'x':x_train},y=y_train,batch_size=8,num_epochs=None,shuffle=True)"
   ]
  },
  {
   "cell_type": "code",
   "execution_count": 51,
   "metadata": {},
   "outputs": [],
   "source": [
    "train_input_func = tf.estimator.inputs.numpy_input_fn({'x':x_train},y=y_train,batch_size=8,num_epochs=None,shuffle=False)"
   ]
  },
  {
   "cell_type": "code",
   "execution_count": 52,
   "metadata": {},
   "outputs": [],
   "source": [
    "test_input_func = tf.estimator.inputs.numpy_input_fn({'x':x_test},y=y_test,batch_size=8,num_epochs=None,shuffle=False)"
   ]
  },
  {
   "cell_type": "code",
   "execution_count": 53,
   "metadata": {},
   "outputs": [
    {
     "name": "stdout",
     "output_type": "stream",
     "text": [
      "INFO:tensorflow:Calling model_fn.\n",
      "INFO:tensorflow:Done calling model_fn.\n",
      "INFO:tensorflow:Create CheckpointSaverHook.\n",
      "INFO:tensorflow:Graph was finalized.\n",
      "INFO:tensorflow:Running local_init_op.\n",
      "INFO:tensorflow:Done running local_init_op.\n",
      "INFO:tensorflow:Saving checkpoints for 1 into /var/folders/qr/4pvq58453_l15nr6skhcdd680000gn/T/tmp9f1lpbwz/model.ckpt.\n",
      "INFO:tensorflow:loss = 250.28798, step = 1\n",
      "INFO:tensorflow:global_step/sec: 1079.14\n",
      "INFO:tensorflow:loss = 4.042186, step = 101 (0.094 sec)\n",
      "INFO:tensorflow:global_step/sec: 1367.76\n",
      "INFO:tensorflow:loss = 3.1994812, step = 201 (0.073 sec)\n",
      "INFO:tensorflow:global_step/sec: 1374.25\n",
      "INFO:tensorflow:loss = 1.2311969, step = 301 (0.072 sec)\n",
      "INFO:tensorflow:global_step/sec: 1300.66\n",
      "INFO:tensorflow:loss = 1.2857616, step = 401 (0.077 sec)\n",
      "INFO:tensorflow:global_step/sec: 1321.02\n",
      "INFO:tensorflow:loss = 0.6932504, step = 501 (0.076 sec)\n",
      "INFO:tensorflow:global_step/sec: 1371.61\n",
      "INFO:tensorflow:loss = 0.53876364, step = 601 (0.073 sec)\n",
      "INFO:tensorflow:global_step/sec: 1388.6\n",
      "INFO:tensorflow:loss = 0.5582746, step = 701 (0.072 sec)\n",
      "INFO:tensorflow:global_step/sec: 1367.58\n",
      "INFO:tensorflow:loss = 0.6258951, step = 801 (0.073 sec)\n",
      "INFO:tensorflow:global_step/sec: 1352.38\n",
      "INFO:tensorflow:loss = 0.5474075, step = 901 (0.074 sec)\n",
      "INFO:tensorflow:Saving checkpoints for 1000 into /var/folders/qr/4pvq58453_l15nr6skhcdd680000gn/T/tmp9f1lpbwz/model.ckpt.\n",
      "INFO:tensorflow:Loss for final step: 0.65024817.\n"
     ]
    },
    {
     "data": {
      "text/plain": [
       "<tensorflow.python.estimator.canned.linear.LinearRegressor at 0x1a27e6c3c8>"
      ]
     },
     "execution_count": 53,
     "metadata": {},
     "output_type": "execute_result"
    }
   ],
   "source": [
    "estimator.train(input_fn=input_func,steps=1000)"
   ]
  },
  {
   "cell_type": "code",
   "execution_count": 54,
   "metadata": {},
   "outputs": [
    {
     "name": "stdout",
     "output_type": "stream",
     "text": [
      "INFO:tensorflow:Calling model_fn.\n",
      "INFO:tensorflow:Done calling model_fn.\n",
      "INFO:tensorflow:Starting evaluation at 2018-05-16-11:25:44\n",
      "INFO:tensorflow:Graph was finalized.\n",
      "INFO:tensorflow:Restoring parameters from /var/folders/qr/4pvq58453_l15nr6skhcdd680000gn/T/tmp9f1lpbwz/model.ckpt-1000\n",
      "INFO:tensorflow:Running local_init_op.\n",
      "INFO:tensorflow:Done running local_init_op.\n",
      "INFO:tensorflow:Evaluation [100/1000]\n",
      "INFO:tensorflow:Evaluation [200/1000]\n",
      "INFO:tensorflow:Evaluation [300/1000]\n",
      "INFO:tensorflow:Evaluation [400/1000]\n",
      "INFO:tensorflow:Evaluation [500/1000]\n",
      "INFO:tensorflow:Evaluation [600/1000]\n",
      "INFO:tensorflow:Evaluation [700/1000]\n",
      "INFO:tensorflow:Evaluation [800/1000]\n",
      "INFO:tensorflow:Evaluation [900/1000]\n",
      "INFO:tensorflow:Evaluation [1000/1000]\n",
      "INFO:tensorflow:Finished evaluation at 2018-05-16-11:25:45\n",
      "INFO:tensorflow:Saving dict for global step 1000: average_loss = 0.08305417, global_step = 1000, loss = 0.66443336\n"
     ]
    }
   ],
   "source": [
    "train_metrics=estimator.evaluate(input_fn=train_input_func,steps=1000)"
   ]
  },
  {
   "cell_type": "code",
   "execution_count": 55,
   "metadata": {},
   "outputs": [
    {
     "name": "stdout",
     "output_type": "stream",
     "text": [
      "INFO:tensorflow:Calling model_fn.\n",
      "INFO:tensorflow:Done calling model_fn.\n",
      "INFO:tensorflow:Starting evaluation at 2018-05-16-11:33:40\n",
      "INFO:tensorflow:Graph was finalized.\n",
      "INFO:tensorflow:Restoring parameters from /var/folders/qr/4pvq58453_l15nr6skhcdd680000gn/T/tmp9f1lpbwz/model.ckpt-1000\n",
      "INFO:tensorflow:Running local_init_op.\n",
      "INFO:tensorflow:Done running local_init_op.\n",
      "INFO:tensorflow:Evaluation [100/1000]\n",
      "INFO:tensorflow:Evaluation [200/1000]\n",
      "INFO:tensorflow:Evaluation [300/1000]\n",
      "INFO:tensorflow:Evaluation [400/1000]\n",
      "INFO:tensorflow:Evaluation [500/1000]\n",
      "INFO:tensorflow:Evaluation [600/1000]\n",
      "INFO:tensorflow:Evaluation [700/1000]\n",
      "INFO:tensorflow:Evaluation [800/1000]\n",
      "INFO:tensorflow:Evaluation [900/1000]\n",
      "INFO:tensorflow:Evaluation [1000/1000]\n",
      "INFO:tensorflow:Finished evaluation at 2018-05-16-11:33:41\n",
      "INFO:tensorflow:Saving dict for global step 1000: average_loss = 0.082108185, global_step = 1000, loss = 0.6568655\n"
     ]
    }
   ],
   "source": [
    "test_metrics=estimator.evaluate(input_fn=test_input_func,steps=1000)"
   ]
  },
  {
   "cell_type": "code",
   "execution_count": 56,
   "metadata": {},
   "outputs": [
    {
     "data": {
      "text/plain": [
       "{'average_loss': 0.08305417, 'global_step': 1000, 'loss': 0.66443336}"
      ]
     },
     "execution_count": 56,
     "metadata": {},
     "output_type": "execute_result"
    }
   ],
   "source": [
    "train_metrics"
   ]
  },
  {
   "cell_type": "code",
   "execution_count": 57,
   "metadata": {},
   "outputs": [
    {
     "data": {
      "text/plain": [
       "{'average_loss': 0.082108185, 'global_step': 1000, 'loss': 0.6568655}"
      ]
     },
     "execution_count": 57,
     "metadata": {},
     "output_type": "execute_result"
    }
   ],
   "source": [
    "test_metrics"
   ]
  },
  {
   "cell_type": "code",
   "execution_count": 79,
   "metadata": {},
   "outputs": [],
   "source": [
    "x_new=np.linspace(0.0,10.0,100)"
   ]
  },
  {
   "cell_type": "code",
   "execution_count": 80,
   "metadata": {},
   "outputs": [],
   "source": [
    "predict_input_func=tf.estimator.inputs.numpy_input_fn({'x':x_new},shuffle=False)"
   ]
  },
  {
   "cell_type": "code",
   "execution_count": 81,
   "metadata": {},
   "outputs": [],
   "source": [
    "y_predict=estimator.predict(input_fn=predict_input_func)\n",
    "y_predict_value=[]"
   ]
  },
  {
   "cell_type": "code",
   "execution_count": 82,
   "metadata": {},
   "outputs": [
    {
     "name": "stdout",
     "output_type": "stream",
     "text": [
      "INFO:tensorflow:Calling model_fn.\n",
      "INFO:tensorflow:Done calling model_fn.\n",
      "INFO:tensorflow:Graph was finalized.\n",
      "INFO:tensorflow:Restoring parameters from /var/folders/qr/4pvq58453_l15nr6skhcdd680000gn/T/tmp9f1lpbwz/model.ckpt-1000\n",
      "INFO:tensorflow:Running local_init_op.\n",
      "INFO:tensorflow:Done running local_init_op.\n"
     ]
    }
   ],
   "source": [
    "for i in y_predict:\n",
    "    y_predict_value.append(i['predictions'])"
   ]
  },
  {
   "cell_type": "code",
   "execution_count": 83,
   "metadata": {},
   "outputs": [
    {
     "data": {
      "text/plain": [
       "[array([2.4769084], dtype=float32),\n",
       " array([2.5279713], dtype=float32),\n",
       " array([2.5790343], dtype=float32),\n",
       " array([2.6300974], dtype=float32),\n",
       " array([2.6811602], dtype=float32),\n",
       " array([2.732223], dtype=float32),\n",
       " array([2.783286], dtype=float32),\n",
       " array([2.834349], dtype=float32),\n",
       " array([2.885412], dtype=float32),\n",
       " array([2.9364748], dtype=float32),\n",
       " array([2.9875379], dtype=float32),\n",
       " array([3.038601], dtype=float32),\n",
       " array([3.0896637], dtype=float32),\n",
       " array([3.1407266], dtype=float32),\n",
       " array([3.1917896], dtype=float32),\n",
       " array([3.2428524], dtype=float32),\n",
       " array([3.2939155], dtype=float32),\n",
       " array([3.3449783], dtype=float32),\n",
       " array([3.3960414], dtype=float32),\n",
       " array([3.4471042], dtype=float32),\n",
       " array([3.498167], dtype=float32),\n",
       " array([3.54923], dtype=float32),\n",
       " array([3.6002932], dtype=float32),\n",
       " array([3.6513562], dtype=float32),\n",
       " array([3.702419], dtype=float32),\n",
       " array([3.7534819], dtype=float32),\n",
       " array([3.804545], dtype=float32),\n",
       " array([3.8556077], dtype=float32),\n",
       " array([3.9066706], dtype=float32),\n",
       " array([3.9577336], dtype=float32),\n",
       " array([4.0087967], dtype=float32),\n",
       " array([4.0598593], dtype=float32),\n",
       " array([4.1109223], dtype=float32),\n",
       " array([4.1619854], dtype=float32),\n",
       " array([4.2130485], dtype=float32),\n",
       " array([4.264111], dtype=float32),\n",
       " array([4.315174], dtype=float32),\n",
       " array([4.366237], dtype=float32),\n",
       " array([4.4173], dtype=float32),\n",
       " array([4.468363], dtype=float32),\n",
       " array([4.519426], dtype=float32),\n",
       " array([4.570489], dtype=float32),\n",
       " array([4.6215515], dtype=float32),\n",
       " array([4.672615], dtype=float32),\n",
       " array([4.7236776], dtype=float32),\n",
       " array([4.7747407], dtype=float32),\n",
       " array([4.8258038], dtype=float32),\n",
       " array([4.8768663], dtype=float32),\n",
       " array([4.92793], dtype=float32),\n",
       " array([4.9789925], dtype=float32),\n",
       " array([5.030055], dtype=float32),\n",
       " array([5.081118], dtype=float32),\n",
       " array([5.132181], dtype=float32),\n",
       " array([5.1832438], dtype=float32),\n",
       " array([5.2343073], dtype=float32),\n",
       " array([5.28537], dtype=float32),\n",
       " array([5.336433], dtype=float32),\n",
       " array([5.387496], dtype=float32),\n",
       " array([5.4385586], dtype=float32),\n",
       " array([5.489622], dtype=float32),\n",
       " array([5.5406847], dtype=float32),\n",
       " array([5.5917478], dtype=float32),\n",
       " array([5.642811], dtype=float32),\n",
       " array([5.6938734], dtype=float32),\n",
       " array([5.7449365], dtype=float32),\n",
       " array([5.7959995], dtype=float32),\n",
       " array([5.847062], dtype=float32),\n",
       " array([5.8981256], dtype=float32),\n",
       " array([5.949188], dtype=float32),\n",
       " array([6.0002513], dtype=float32),\n",
       " array([6.051314], dtype=float32),\n",
       " array([6.102377], dtype=float32),\n",
       " array([6.15344], dtype=float32),\n",
       " array([6.204503], dtype=float32),\n",
       " array([6.2555656], dtype=float32),\n",
       " array([6.3066287], dtype=float32),\n",
       " array([6.357692], dtype=float32),\n",
       " array([6.4087543], dtype=float32),\n",
       " array([6.459818], dtype=float32),\n",
       " array([6.5108805], dtype=float32),\n",
       " array([6.561943], dtype=float32),\n",
       " array([6.6130066], dtype=float32),\n",
       " array([6.664069], dtype=float32),\n",
       " array([6.7151327], dtype=float32),\n",
       " array([6.7661953], dtype=float32),\n",
       " array([6.817258], dtype=float32),\n",
       " array([6.8683214], dtype=float32),\n",
       " array([6.919384], dtype=float32),\n",
       " array([6.9704475], dtype=float32),\n",
       " array([7.02151], dtype=float32),\n",
       " array([7.0725727], dtype=float32),\n",
       " array([7.1236362], dtype=float32),\n",
       " array([7.174699], dtype=float32),\n",
       " array([7.2257614], dtype=float32),\n",
       " array([7.276825], dtype=float32),\n",
       " array([7.3278875], dtype=float32),\n",
       " array([7.378951], dtype=float32),\n",
       " array([7.4300137], dtype=float32),\n",
       " array([7.4810762], dtype=float32),\n",
       " array([7.53214], dtype=float32)]"
      ]
     },
     "execution_count": 83,
     "metadata": {},
     "output_type": "execute_result"
    }
   ],
   "source": [
    "y_predict_value"
   ]
  },
  {
   "cell_type": "code",
   "execution_count": 84,
   "metadata": {},
   "outputs": [
    {
     "data": {
      "text/plain": [
       "[<matplotlib.lines.Line2D at 0x1a28c66470>]"
      ]
     },
     "execution_count": 84,
     "metadata": {},
     "output_type": "execute_result"
    },
    {
     "data": {
      "image/png": "[encoded data removed]",
      "text/plain": [
       "<Figure size 432x288 with 1 Axes>"
      ]
     },
     "metadata": {},
     "output_type": "display_data"
    }
   ],
   "source": [
    "table_df.sample(n=100).plot(kind='scatter',x='x-data',y='y-data')\n",
    "plot.plot(x_new,y_predict_value,'r')"
   ]
  },
  {
   "cell_type": "code",
   "execution_count": null,
   "metadata": {},
   "outputs": [],
   "source": []
  }
 ],
 "metadata": {
  "kernelspec": {
   "display_name": "Python 3",
   "language": "python",
   "name": "python3"
  },
  "language_info": {
   "codemirror_mode": {
    "name": "ipython",
    "version": 3
   },
   "file_extension": ".py",
   "mimetype": "text/x-python",
   "name": "python",
   "nbconvert_exporter": "python",
   "pygments_lexer": "ipython3",
   "version": "3.5.5"
  }
 },
 "nbformat": 4,
 "nbformat_minor": 2
}
