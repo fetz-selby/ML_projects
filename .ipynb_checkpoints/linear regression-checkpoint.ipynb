{
 "cells": [
  {
   "cell_type": "code",
   "execution_count": 35,
   "metadata": {},
   "outputs": [],
   "source": [
    "import tensorflow as tf\n",
    "import numpy as np\n",
    "import matplotlib.pyplot as plot\n",
    "import pandas as pd"
   ]
  },
  {
   "cell_type": "code",
   "execution_count": 36,
   "metadata": {},
   "outputs": [],
   "source": [
    "from sklearn.preprocessing import MinMaxScaler"
   ]
  },
  {
   "cell_type": "code",
   "execution_count": 37,
   "metadata": {},
   "outputs": [],
   "source": [
    "x_data = np.linspace(0.0,10.0,num=1000000)"
   ]
  },
  {
   "cell_type": "code",
   "execution_count": 38,
   "metadata": {},
   "outputs": [],
   "source": [
    "noise = np.random.randn(len(x_data))"
   ]
  },
  {
   "cell_type": "code",
   "execution_count": 39,
   "metadata": {},
   "outputs": [],
   "source": [
    "y_true = (0.5*x_data)+5+noise"
   ]
  },
  {
   "cell_type": "code",
   "execution_count": 40,
   "metadata": {},
   "outputs": [],
   "source": [
    "x_df = pd.DataFrame(data=x_data, columns=['x-data'])"
   ]
  },
  {
   "cell_type": "code",
   "execution_count": 41,
   "metadata": {},
   "outputs": [],
   "source": [
    "y_df = pd.DataFrame(data=y_true, columns=['y-data'])"
   ]
  },
  {
   "cell_type": "code",
   "execution_count": 44,
   "metadata": {},
   "outputs": [],
   "source": [
    "df_data = pd.concat([x_df,y_df], axis=1)"
   ]
  },
  {
   "cell_type": "code",
   "execution_count": 46,
   "metadata": {},
   "outputs": [
    {
     "data": {
      "text/html": [
       "<div>\n",
       "<style scoped>\n",
       "    .dataframe tbody tr th:only-of-type {\n",
       "        vertical-align: middle;\n",
       "    }\n",
       "\n",
       "    .dataframe tbody tr th {\n",
       "        vertical-align: top;\n",
       "    }\n",
       "\n",
       "    .dataframe thead th {\n",
       "        text-align: right;\n",
       "    }\n",
       "</style>\n",
       "<table border=\"1\" class=\"dataframe\">\n",
       "  <thead>\n",
       "    <tr style=\"text-align: right;\">\n",
       "      <th></th>\n",
       "      <th>x-data</th>\n",
       "      <th>y-data</th>\n",
       "    </tr>\n",
       "  </thead>\n",
       "  <tbody>\n",
       "    <tr>\n",
       "      <th>851804</th>\n",
       "      <td>8.518049</td>\n",
       "      <td>9.194185</td>\n",
       "    </tr>\n",
       "    <tr>\n",
       "      <th>524099</th>\n",
       "      <td>5.240995</td>\n",
       "      <td>8.091810</td>\n",
       "    </tr>\n",
       "    <tr>\n",
       "      <th>135325</th>\n",
       "      <td>1.353251</td>\n",
       "      <td>5.989748</td>\n",
       "    </tr>\n",
       "    <tr>\n",
       "      <th>985276</th>\n",
       "      <td>9.852770</td>\n",
       "      <td>10.309772</td>\n",
       "    </tr>\n",
       "    <tr>\n",
       "      <th>282020</th>\n",
       "      <td>2.820203</td>\n",
       "      <td>5.138628</td>\n",
       "    </tr>\n",
       "    <tr>\n",
       "      <th>193056</th>\n",
       "      <td>1.930562</td>\n",
       "      <td>6.667019</td>\n",
       "    </tr>\n",
       "    <tr>\n",
       "      <th>594012</th>\n",
       "      <td>5.940126</td>\n",
       "      <td>6.353868</td>\n",
       "    </tr>\n",
       "    <tr>\n",
       "      <th>191426</th>\n",
       "      <td>1.914262</td>\n",
       "      <td>5.525035</td>\n",
       "    </tr>\n",
       "    <tr>\n",
       "      <th>130663</th>\n",
       "      <td>1.306631</td>\n",
       "      <td>5.812050</td>\n",
       "    </tr>\n",
       "    <tr>\n",
       "      <th>592866</th>\n",
       "      <td>5.928666</td>\n",
       "      <td>8.070036</td>\n",
       "    </tr>\n",
       "    <tr>\n",
       "      <th>315105</th>\n",
       "      <td>3.151053</td>\n",
       "      <td>5.673745</td>\n",
       "    </tr>\n",
       "    <tr>\n",
       "      <th>482108</th>\n",
       "      <td>4.821085</td>\n",
       "      <td>7.831579</td>\n",
       "    </tr>\n",
       "    <tr>\n",
       "      <th>436356</th>\n",
       "      <td>4.363564</td>\n",
       "      <td>7.041908</td>\n",
       "    </tr>\n",
       "    <tr>\n",
       "      <th>464158</th>\n",
       "      <td>4.641585</td>\n",
       "      <td>6.262274</td>\n",
       "    </tr>\n",
       "    <tr>\n",
       "      <th>54219</th>\n",
       "      <td>0.542191</td>\n",
       "      <td>4.037394</td>\n",
       "    </tr>\n",
       "    <tr>\n",
       "      <th>166586</th>\n",
       "      <td>1.665862</td>\n",
       "      <td>8.483189</td>\n",
       "    </tr>\n",
       "    <tr>\n",
       "      <th>352376</th>\n",
       "      <td>3.523764</td>\n",
       "      <td>7.382087</td>\n",
       "    </tr>\n",
       "    <tr>\n",
       "      <th>657565</th>\n",
       "      <td>6.575657</td>\n",
       "      <td>8.358889</td>\n",
       "    </tr>\n",
       "    <tr>\n",
       "      <th>336800</th>\n",
       "      <td>3.368003</td>\n",
       "      <td>6.551420</td>\n",
       "    </tr>\n",
       "    <tr>\n",
       "      <th>605240</th>\n",
       "      <td>6.052406</td>\n",
       "      <td>9.875955</td>\n",
       "    </tr>\n",
       "  </tbody>\n",
       "</table>\n",
       "</div>"
      ],
      "text/plain": [
       "          x-data     y-data\n",
       "851804  8.518049   9.194185\n",
       "524099  5.240995   8.091810\n",
       "135325  1.353251   5.989748\n",
       "985276  9.852770  10.309772\n",
       "282020  2.820203   5.138628\n",
       "193056  1.930562   6.667019\n",
       "594012  5.940126   6.353868\n",
       "191426  1.914262   5.525035\n",
       "130663  1.306631   5.812050\n",
       "592866  5.928666   8.070036\n",
       "315105  3.151053   5.673745\n",
       "482108  4.821085   7.831579\n",
       "436356  4.363564   7.041908\n",
       "464158  4.641585   6.262274\n",
       "54219   0.542191   4.037394\n",
       "166586  1.665862   8.483189\n",
       "352376  3.523764   7.382087\n",
       "657565  6.575657   8.358889\n",
       "336800  3.368003   6.551420\n",
       "605240  6.052406   9.875955"
      ]
     },
     "execution_count": 46,
     "metadata": {},
     "output_type": "execute_result"
    }
   ],
   "source": [
    "df_data.sample(n=20)"
   ]
  },
  {
   "cell_type": "code",
   "execution_count": 47,
   "metadata": {},
   "outputs": [
    {
     "data": {
      "text/plain": [
       "<matplotlib.axes._subplots.AxesSubplot at 0x1a21b56b38>"
      ]
     },
     "execution_count": 47,
     "metadata": {},
     "output_type": "execute_result"
    },
    {
     "data": {
      "image/png": "[encoded data removed]",
      "text/plain": [
       "<Figure size 432x288 with 1 Axes>"
      ]
     },
     "metadata": {},
     "output_type": "display_data"
    }
   ],
   "source": [
    "df_data.sample(n=200).plot(kind='scatter',x='x-data', y='y-data')"
   ]
  },
  {
   "cell_type": "code",
   "execution_count": 48,
   "metadata": {},
   "outputs": [],
   "source": [
    "batch_size=8\n",
    "\n",
    "#Generate 2 random values to start as m and b\n",
    "m=tf.Variable(0,dtype=tf.float32,name='m');\n",
    "b=tf.Variable(0,dtype=tf.float32,name='b');\n",
    "\n",
    "x_pl=tf.placeholder(tf.float32,[batch_size])\n",
    "y_pl=tf.placeholder(tf.float32,[batch_size])"
   ]
  },
  {
   "cell_type": "code",
   "execution_count": 49,
   "metadata": {},
   "outputs": [],
   "source": [
    "y_model=m*x_pl+b"
   ]
  },
  {
   "cell_type": "code",
   "execution_count": 50,
   "metadata": {},
   "outputs": [],
   "source": [
    "error=tf.reduce_sum(tf.square(y_pl-y_model))"
   ]
  },
  {
   "cell_type": "code",
   "execution_count": 52,
   "metadata": {},
   "outputs": [],
   "source": [
    "train = tf.train.GradientDescentOptimizer(0.001).minimize(error)\n",
    "init = tf.global_variables_initializer()"
   ]
  },
  {
   "cell_type": "code",
   "execution_count": 60,
   "metadata": {},
   "outputs": [],
   "source": [
    "with tf.Session() as sess:\n",
    "    sess.run(init)\n",
    "    \n",
    "    epoch = 100000\n",
    "    for i in range(epoch):\n",
    "        batch_index=np.random.randint(len(x_data),size=batch_size)\n",
    "        sess.run(train, feed_dict={x_pl:x_data[batch_index],y_pl:y_true[batch_index]})\n",
    "    model_m,model_b = sess.run([m,b])"
   ]
  },
  {
   "cell_type": "code",
   "execution_count": 62,
   "metadata": {},
   "outputs": [
    {
     "data": {
      "text/plain": [
       "0.5299566"
      ]
     },
     "execution_count": 62,
     "metadata": {},
     "output_type": "execute_result"
    }
   ],
   "source": [
    "model_m"
   ]
  },
  {
   "cell_type": "code",
   "execution_count": 63,
   "metadata": {},
   "outputs": [
    {
     "data": {
      "text/plain": [
       "5.001639"
      ]
     },
     "execution_count": 63,
     "metadata": {},
     "output_type": "execute_result"
    }
   ],
   "source": [
    "model_b"
   ]
  },
  {
   "cell_type": "code",
   "execution_count": 65,
   "metadata": {},
   "outputs": [],
   "source": [
    "y_hat=model_m*x_data+model_b"
   ]
  },
  {
   "cell_type": "code",
   "execution_count": 67,
   "metadata": {},
   "outputs": [
    {
     "data": {
      "text/plain": [
       "[<matplotlib.lines.Line2D at 0x1a38680c50>]"
      ]
     },
     "execution_count": 67,
     "metadata": {},
     "output_type": "execute_result"
    },
    {
     "data": {
      "image/png": "[encoded data removed]",
      "text/plain": [
       "<Figure size 432x288 with 1 Axes>"
      ]
     },
     "metadata": {},
     "output_type": "display_data"
    }
   ],
   "source": [
    "df_data.sample(250).plot(kind='scatter',x='x-data',y='y-data')\n",
    "plot.plot(x_data,y_hat,'r')"
   ]
  },
  {
   "cell_type": "code",
   "execution_count": null,
   "metadata": {},
   "outputs": [],
   "source": []
  }
 ],
 "metadata": {
  "kernelspec": {
   "display_name": "Python 3",
   "language": "python",
   "name": "python3"
  },
  "language_info": {
   "codemirror_mode": {
    "name": "ipython",
    "version": 3
   },
   "file_extension": ".py",
   "mimetype": "text/x-python",
   "name": "python",
   "nbconvert_exporter": "python",
   "pygments_lexer": "ipython3",
   "version": "3.5.5"
  }
 },
 "nbformat": 4,
 "nbformat_minor": 2
}
